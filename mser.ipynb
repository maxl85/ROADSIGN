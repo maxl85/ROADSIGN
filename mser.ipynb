{
 "cells": [
  {
   "cell_type": "code",
   "execution_count": null,
   "metadata": {
    "collapsed": false,
    "scrolled": true
   },
   "outputs": [],
   "source": [
    "import matplotlib.pyplot as plt\n",
    "%matplotlib inline\n",
    "import cv2\n",
    "import numpy as np\n",
    "import pandas as pd\n",
    "from keras.models import model_from_json\n",
    "from PIL import Image\n",
    "import keras.preprocessing.image as kp\n",
    "import os\n",
    "from PIL import Image\n",
    "from keras.models import Sequential,Graph\n",
    "from keras.layers.core import Activation,Flatten, Dense, Dropout,Reshape\n",
    "from keras.layers.convolutional import Convolution2D, MaxPooling2D, ZeroPadding2D\n",
    "from keras.optimizers import SGD\n",
    "from keras.preprocessing.image import ImageDataGenerator\n",
    "import keras.preprocessing.image as kp\n",
    "from keras.models import model_from_json\n",
    "import h5py"
   ]
  },
  {
   "cell_type": "code",
   "execution_count": null,
   "metadata": {
    "collapsed": false
   },
   "outputs": [],
   "source": [
    "\n",
    "# load json and create model\n",
    "json_file = open('model.json', 'r')\n",
    "loaded_model_json = json_file.read()\n",
    "json_file.close()\n",
    "model = model_from_json(loaded_model_json)\n",
    "# load weights into new model\n",
    "model.load_weights(\"znaki_new1.h5\")\n",
    "print(\"Loaded model from disk\")"
   ]
  },
  {
   "cell_type": "code",
   "execution_count": null,
   "metadata": {
    "collapsed": false
   },
   "outputs": [],
   "source": [
    "Fname = 'FullIJCNN2013_jpg'\n",
    "Fnames = os.listdir(Fname)\n",
    "count = 65\n",
    "minSize=16\n",
    "maxSize=200\n",
    "padding = 5\n",
    "maxProportion=1.2\n",
    "epsilon = 20\n",
    "mser = cv2.MSER_create(_delta=1)\n",
    "for name in Fnames[:5]:\n",
    "    fname = Fname+'/'+name\n",
    "    img = cv2.imread(fname)\n",
    "    img = cv2.cvtColor(img, cv2.COLOR_BGR2GRAY)\n",
    "    mser_areas = mser.detectRegions(img,None)\n",
    "    #img = cv2.\n",
    "    print len(mser_areas)\n",
    "\n",
    "    \n",
    "    \"\"\"windows_list = []\n",
    "    for blob in mser_areas:\n",
    "        df_blob = pd.DataFrame(blob)\n",
    "        xmin, ymin = df_blob.min(0)\n",
    "        xmax, ymax = df_blob.max(0)\n",
    "\n",
    "        xmin -= padding\n",
    "        ymin -= padding\n",
    "        xmax += padding\n",
    "        ymax += padding\n",
    "\n",
    "        if xmin >= 0 and ymin >= 0 and xmax <= img.shape[1] and ymax <= img.shape[0]:\n",
    "            windows_list.append((xmin, ymin, xmax, ymax))\n",
    "\n",
    "\n",
    "    \n",
    "    valid_windows = []\n",
    "    for window in windows_list:\n",
    "        size_x = float(window[2] - window[0])\n",
    "        size_y = float(window[3] - window[1])\n",
    "        if size_x < minSize or size_y < minSize or size_x > maxSize or size_y > maxSize or\\\n",
    "        size_x / size_y > maxProportion or size_y / size_x > maxProportion:\n",
    "            continue\n",
    "        valid_windows.append(window)\n",
    "\n",
    "\n",
    "    #усредняет рамки\n",
    "    windows = valid_windows\n",
    "    if len(windows) == 1:\n",
    "        print \"Bred\"\n",
    "    else:\n",
    "        \n",
    "\n",
    "        groups = {}\n",
    "        indexes = range(len(windows))\n",
    "        i = 0\n",
    "        while i < len(windows):\n",
    "            groups[i] = [i]\n",
    "            indexes.remove(i)\n",
    "            to_remove = []\n",
    "            for j in indexes:\n",
    "                if (np.abs(np.array(windows[i]) - np.array(windows[j])) < epsilon).all():\n",
    "                    groups[i].append(j)\n",
    "                    to_remove.append(j)\n",
    "            for k in to_remove:\n",
    "                indexes.remove(k)\n",
    "            if indexes:\n",
    "                i = indexes[0]\n",
    "            else:\n",
    "                break\n",
    "\n",
    "        res_windows = []\n",
    "        for key in groups:\n",
    "            xmin = np.min([windows[ind][0] for ind in groups[key]])\n",
    "            ymin = np.min([windows[ind][1] for ind in groups[key]])\n",
    "            xmax = np.max([windows[ind][2] for ind in groups[key]])\n",
    "            ymax = np.max([windows[ind][3] for ind in groups[key]])\n",
    "            res_windows.append((xmin, ymin, xmax, ymax))\n",
    "\n",
    "\n",
    "    #prediction\n",
    "    img = plt.imread(fname)\n",
    "\n",
    "    prediction = []\n",
    "    \n",
    "    for window in res_windows:\n",
    "        B = img[int(window[1]):int(window[3]),int(window[0]):int(window[2])]\n",
    "        A = B\n",
    "        B = cv2.resize(B,(32,32))\n",
    "        B = B.transpose(2,0,1)\n",
    "        B = np.expand_dims(B, axis=0)\n",
    "        predict = model.predict_classes(B)\n",
    "        print predict [0][0]\n",
    "        if predict [0][0] ==1:\n",
    "            prediction.append(window)\n",
    "             I = Image.fromarray(A)\n",
    "            p='nn/n/'+str(count)+'.jpg'\n",
    "            I.save(p)\n",
    "            count+=1\n",
    "        \n",
    "\n",
    "    frames = prediction\n",
    "    for frame in frames:\n",
    "        coords = (frame[0], frame[1]), (frame[2], frame[3])\n",
    "        cv2.rectangle(img, (frame[0], frame[1]),(frame[2], frame[3]),(0,0,255), 2)\n",
    "    path_save = 'res/'+str(count)+'.jpg'\n",
    "    cv2.imwrite(path_save,img)\n",
    "    count+=1\n",
    "    \n",
    "    frames = prediction\n",
    "    gt_file = 'gt.txt'\n",
    "    plt.imshow(img)\n",
    "    currentAxis = plt.gca()\n",
    "    for frame in frames:\n",
    "        coords = (frame[0], frame[1]), frame[2] - frame[0], frame[3] - frame[1]\n",
    "        currentAxis.add_patch(plt.Rectangle(*coords, fill=False, edgecolor='r', linewidth=3))\n",
    "\n",
    "    if gt_file:\n",
    "        short_fname = os.path.split(fname)[1]\n",
    "        gt_list = []\n",
    "        with open(gt_file) as f:\n",
    "            for line in f:\n",
    "                words = line.strip().split(';')\n",
    "                if words[0] == short_fname:\n",
    "                    gt_list.append(np.array(words[1:5], dtype='float'))\n",
    "        for key in range(len(gt_list)):\n",
    "            gt = gt_list[key]\n",
    "            coords = (gt[0], gt[1]), gt[2] - gt[0], gt[3] - gt[1]\n",
    "            currentAxis.add_patch(plt.Rectangle(*coords, fill=False, edgecolor='g', linewidth=1))\n",
    "\n",
    "    plt.show()\n",
    "    plt.imsave('res/1.jpg',img)\"\"\""
   ]
  },
  {
   "cell_type": "code",
   "execution_count": null,
   "metadata": {
    "collapsed": true
   },
   "outputs": [],
   "source": []
  },
  {
   "cell_type": "code",
   "execution_count": null,
   "metadata": {
    "collapsed": false
   },
   "outputs": [],
   "source": [
    "p = \"Training\"\n",
    "p = p.strip()\n",
    "List = os.listdir(p)\n",
    "c = 0\n",
    "for l in List:\n",
    "    p = 'Training/'+l\n",
    "    fil = kp.load_img(p)\n",
    "    im = fil.resize((32,32))\n",
    "    im = kp.img_to_array(im)\n",
    "    im = np.expand_dims(im, axis=0)\n",
    "    predict = model.predict_classes(im)\n",
    "    if predict[0][0]==0:\n",
    "        c+=1\n",
    "print c\n"
   ]
  },
  {
   "cell_type": "code",
   "execution_count": null,
   "metadata": {
    "collapsed": false
   },
   "outputs": [],
   "source": [
    "print c"
   ]
  },
  {
   "cell_type": "code",
   "execution_count": 6,
   "metadata": {
    "collapsed": true
   },
   "outputs": [],
   "source": [
    "import numpy as np\n",
    "import cv2\n",
    "\n",
    "camObj = cv2.VideoCapture(0)\n",
    "if not camObj.isOpened():\n",
    "    print('Camera did not provide frame.')\n",
    "\n"
   ]
  },
  {
   "cell_type": "code",
   "execution_count": 7,
   "metadata": {
    "collapsed": false
   },
   "outputs": [],
   "source": [
    "i=0\n",
    "while(True):\n",
    "    readOK, frame = camObj.read()\n",
    "    if readOK:\n",
    "        cv2.imshow('image', frame)\n",
    "        cv2.imwrite('tld/filename'+str(i)+'.jpg',frame)\n",
    "    i+=1\n",
    "    if cv2.waitKey(1) & 0xFF == ord('q'):\n",
    "        break\n",
    "#%%\n"
   ]
  },
  {
   "cell_type": "code",
   "execution_count": 8,
   "metadata": {
    "collapsed": true
   },
   "outputs": [],
   "source": [
    "camObj.release()\n",
    "cv2.destroyAllWindows()"
   ]
  },
  {
   "cell_type": "code",
   "execution_count": null,
   "metadata": {
    "collapsed": true
   },
   "outputs": [],
   "source": []
  }
 ],
 "metadata": {
  "kernelspec": {
   "display_name": "Python 2",
   "language": "python",
   "name": "python2"
  },
  "language_info": {
   "codemirror_mode": {
    "name": "ipython",
    "version": 2
   },
   "file_extension": ".py",
   "mimetype": "text/x-python",
   "name": "python",
   "nbconvert_exporter": "python",
   "pygments_lexer": "ipython2",
   "version": "2.7.10"
  }
 },
 "nbformat": 4,
 "nbformat_minor": 0
}
